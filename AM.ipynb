{
 "cells": [
  {
   "cell_type": "markdown",
   "id": "c60c1d62",
   "metadata": {},
   "source": [
    "# Introduction\n",
    "ARIMA (AutoRegressive Integrated Moving Average) model is a popular time series analysis and forecasting method used in econometrics, finance, and other fields. It is a class of statistical models that captures the stochastic nature of a time series and its underlying patterns.\n",
    "\n",
    "The ARIMA model has three components:\n",
    "\n",
    "Autoregression (AR) - A regression model that uses lagged values of the time series to predict its current value.\n",
    "\n",
    "Moving Average (MA) - A model that uses the past errors of the time series to predict its current value.\n",
    "\n",
    "Integration (I) - A differencing process that transforms a non-stationary time series into a stationary one by computing the differences between consecutive observations.\n",
    "\n",
    "The notation for an ARIMA model is ARIMA(p, d, q), where:\n",
    "\n",
    "* p: the order of the autoregressive part\n",
    "* d: the degree of differencing\n",
    "* q: the order of the moving average part\n",
    "\n",
    "The selection of the values for p, d, and q is typically done using statistical methods such as the Akaike information criterion (AIC) or the Bayesian information criterion (BIC). Once the optimal values for p, d, and q are determined, the ARIMA model can be used to make predictions about future values of the time series. "
   ]
  },
  {
   "cell_type": "markdown",
   "id": "a95f9082",
   "metadata": {},
   "source": [
    "### Assumptions\n",
    "\n",
    ">Stationarity: the time series should be stationary. This means that the mean, variance, and autocorrelation of the series should remain constant over time. If the series is non-stationary, it can be made stationary through differencing.\n",
    "\n",
    ">No seasonality: ARIMA models assume that the time series does not have any seasonal patterns. If there is seasonality in the data, a seasonal ARIMA (SARIMA) model should be used instead.\n",
    "\n",
    ">No outliers: ARIMA models assume that there are no extreme values or outliers in the time series. Outliers can be identified and removed from the data to improve the accuracy of the model.\n",
    "\n",
    ">No autocorrelation in residuals: The residuals (the difference between the observed values and the predicted values) should be independent and identically distributed (i.e., have no autocorrelation). If there is autocorrelation in the residuals, it indicates that the model is not capturing all the information in the data.\n",
    "\n",
    ">Normally distributed residuals: The residuals should be normally distributed with a mean of zero. If the residuals are not normally distributed, it may indicate that the model is not appropriate for the data or that there are other factors affecting the series that are not accounted for in the model."
   ]
  },
  {
   "cell_type": "markdown",
   "id": "86650bc1",
   "metadata": {},
   "source": [
    "### Steps\n",
    "\n",
    "* Import the necessary libraries: import pandas, numpy, matplotlib, and statsmodels libraries.\n",
    "\n",
    "* Load the data: Load the data into a pandas DataFrame and set the 'Date' column as the index.\n",
    "\n",
    "* Convert the data to time series: Convert the DataFrame into a time series using the 'to_datetime' function.\n",
    "\n",
    "* Visualize the data: Plot the data using the 'plot' function to visualize the trend, seasonality, and any other patterns in the data.\n",
    "\n",
    "* Stationarize the data: Check if the time series is stationary using the 'adf_test' function from the statsmodels library. If the time series is not stationary, you can apply differencing to make it stationary.\n",
    "\n",
    "* Determine the parameters: Determine the values of p, d, and q for the ARIMA model by analyzing the ACF and PACF plots.\n",
    "\n",
    "* Build the ARIMA model: Build the ARIMA model using the 'ARIMA' function from the statsmodels library, passing in the values of p, d, and q.\n",
    "\n",
    "* Fit the model: Fit the model to the data using the 'fit' method.\n",
    "\n",
    "* Forecast: Forecast the values for April 2024 using the 'forecast' method, passing in the number of periods you want to forecast."
   ]
  },
  {
   "cell_type": "code",
   "execution_count": 2,
   "id": "de6b42f9",
   "metadata": {},
   "outputs": [],
   "source": [
    "# import relevant libraries\n",
    "import pandas as pd\n",
    "import numpy as np\n",
    "\n",
    "import matplotlib.pyplot as plt\n",
    "import statsmodels.api as sm\n",
    "from statsmodels.tsa.stattools import adfuller\n",
    "\n",
    "import warnings\n",
    "warnings.filterwarnings(\"ignore\")"
   ]
  },
  {
   "cell_type": "markdown",
   "id": "2eef4f70",
   "metadata": {},
   "source": [
    "# 2. Data"
   ]
  },
  {
   "cell_type": "code",
   "execution_count": 6,
   "id": "8bb7563f",
   "metadata": {},
   "outputs": [
    {
     "data": {
      "text/html": [
       "<div>\n",
       "<style scoped>\n",
       "    .dataframe tbody tr th:only-of-type {\n",
       "        vertical-align: middle;\n",
       "    }\n",
       "\n",
       "    .dataframe tbody tr th {\n",
       "        vertical-align: top;\n",
       "    }\n",
       "\n",
       "    .dataframe thead th {\n",
       "        text-align: right;\n",
       "    }\n",
       "</style>\n",
       "<table border=\"1\" class=\"dataframe\">\n",
       "  <thead>\n",
       "    <tr style=\"text-align: right;\">\n",
       "      <th></th>\n",
       "      <th>Currency</th>\n",
       "      <th>Mean</th>\n",
       "      <th>Buy</th>\n",
       "      <th>Sell</th>\n",
       "    </tr>\n",
       "    <tr>\n",
       "      <th>Date</th>\n",
       "      <th></th>\n",
       "      <th></th>\n",
       "      <th></th>\n",
       "      <th></th>\n",
       "    </tr>\n",
       "  </thead>\n",
       "  <tbody>\n",
       "    <tr>\n",
       "      <th>2023-02-24</th>\n",
       "      <td>EURO</td>\n",
       "      <td>133.9741</td>\n",
       "      <td>133.8476</td>\n",
       "      <td>134.1006</td>\n",
       "    </tr>\n",
       "    <tr>\n",
       "      <th>2023-02-23</th>\n",
       "      <td>EURO</td>\n",
       "      <td>134.2924</td>\n",
       "      <td>134.1641</td>\n",
       "      <td>134.4206</td>\n",
       "    </tr>\n",
       "    <tr>\n",
       "      <th>2023-02-22</th>\n",
       "      <td>EURO</td>\n",
       "      <td>134.4568</td>\n",
       "      <td>134.3318</td>\n",
       "      <td>134.5818</td>\n",
       "    </tr>\n",
       "    <tr>\n",
       "      <th>2023-02-21</th>\n",
       "      <td>EURO</td>\n",
       "      <td>134.5626</td>\n",
       "      <td>134.4388</td>\n",
       "      <td>134.6865</td>\n",
       "    </tr>\n",
       "    <tr>\n",
       "      <th>2023-02-20</th>\n",
       "      <td>EURO</td>\n",
       "      <td>133.6065</td>\n",
       "      <td>133.4812</td>\n",
       "      <td>133.7318</td>\n",
       "    </tr>\n",
       "    <tr>\n",
       "      <th>2023-02-17</th>\n",
       "      <td>EURO</td>\n",
       "      <td>134.3482</td>\n",
       "      <td>134.2218</td>\n",
       "      <td>134.4747</td>\n",
       "    </tr>\n",
       "    <tr>\n",
       "      <th>2023-02-16</th>\n",
       "      <td>EURO</td>\n",
       "      <td>134.4341</td>\n",
       "      <td>134.3076</td>\n",
       "      <td>134.5606</td>\n",
       "    </tr>\n",
       "  </tbody>\n",
       "</table>\n",
       "</div>"
      ],
      "text/plain": [
       "           Currency      Mean       Buy      Sell\n",
       "Date                                             \n",
       "2023-02-24     EURO  133.9741  133.8476  134.1006\n",
       "2023-02-23     EURO  134.2924  134.1641  134.4206\n",
       "2023-02-22     EURO  134.4568  134.3318  134.5818\n",
       "2023-02-21     EURO  134.5626  134.4388  134.6865\n",
       "2023-02-20     EURO  133.6065  133.4812  133.7318\n",
       "2023-02-17     EURO  134.3482  134.2218  134.4747\n",
       "2023-02-16     EURO  134.4341  134.3076  134.5606"
      ]
     },
     "execution_count": 6,
     "metadata": {},
     "output_type": "execute_result"
    }
   ],
   "source": [
    "# load data and parse data column\n",
    "euro = pd.read_csv('EURO.csv', parse_dates=['Date'], index_col='Date')\n",
    "\n",
    "# preview EURO data frame\n",
    "euro.head(7)"
   ]
  },
  {
   "cell_type": "markdown",
   "id": "dffcf08a",
   "metadata": {},
   "source": [
    "## 2.1 Data Cleaning"
   ]
  },
  {
   "cell_type": "code",
   "execution_count": 3,
   "id": "dfcd7602",
   "metadata": {},
   "outputs": [
    {
     "data": {
      "text/html": [
       "<div>\n",
       "<style scoped>\n",
       "    .dataframe tbody tr th:only-of-type {\n",
       "        vertical-align: middle;\n",
       "    }\n",
       "\n",
       "    .dataframe tbody tr th {\n",
       "        vertical-align: top;\n",
       "    }\n",
       "\n",
       "    .dataframe thead th {\n",
       "        text-align: right;\n",
       "    }\n",
       "</style>\n",
       "<table border=\"1\" class=\"dataframe\">\n",
       "  <thead>\n",
       "    <tr style=\"text-align: right;\">\n",
       "      <th></th>\n",
       "      <th>Currency</th>\n",
       "      <th>Mean</th>\n",
       "      <th>Buy</th>\n",
       "      <th>Sell</th>\n",
       "    </tr>\n",
       "    <tr>\n",
       "      <th>Date</th>\n",
       "      <th></th>\n",
       "      <th></th>\n",
       "      <th></th>\n",
       "      <th></th>\n",
       "    </tr>\n",
       "  </thead>\n",
       "  <tbody>\n",
       "    <tr>\n",
       "      <th>2023-02-24</th>\n",
       "      <td>EURO</td>\n",
       "      <td>133.9741</td>\n",
       "      <td>133.8476</td>\n",
       "      <td>134.1006</td>\n",
       "    </tr>\n",
       "    <tr>\n",
       "      <th>2023-02-23</th>\n",
       "      <td>EURO</td>\n",
       "      <td>134.2924</td>\n",
       "      <td>134.1641</td>\n",
       "      <td>134.4206</td>\n",
       "    </tr>\n",
       "    <tr>\n",
       "      <th>2023-02-22</th>\n",
       "      <td>EURO</td>\n",
       "      <td>134.4568</td>\n",
       "      <td>134.3318</td>\n",
       "      <td>134.5818</td>\n",
       "    </tr>\n",
       "    <tr>\n",
       "      <th>2023-02-21</th>\n",
       "      <td>EURO</td>\n",
       "      <td>134.5626</td>\n",
       "      <td>134.4388</td>\n",
       "      <td>134.6865</td>\n",
       "    </tr>\n",
       "    <tr>\n",
       "      <th>2023-02-20</th>\n",
       "      <td>EURO</td>\n",
       "      <td>133.6065</td>\n",
       "      <td>133.4812</td>\n",
       "      <td>133.7318</td>\n",
       "    </tr>\n",
       "    <tr>\n",
       "      <th>2023-02-17</th>\n",
       "      <td>EURO</td>\n",
       "      <td>134.3482</td>\n",
       "      <td>134.2218</td>\n",
       "      <td>134.4747</td>\n",
       "    </tr>\n",
       "    <tr>\n",
       "      <th>2023-02-16</th>\n",
       "      <td>EURO</td>\n",
       "      <td>134.4341</td>\n",
       "      <td>134.3076</td>\n",
       "      <td>134.5606</td>\n",
       "    </tr>\n",
       "  </tbody>\n",
       "</table>\n",
       "</div>"
      ],
      "text/plain": [
       "           Currency      Mean       Buy      Sell\n",
       "Date                                             \n",
       "2023-02-24     EURO  133.9741  133.8476  134.1006\n",
       "2023-02-23     EURO  134.2924  134.1641  134.4206\n",
       "2023-02-22     EURO  134.4568  134.3318  134.5818\n",
       "2023-02-21     EURO  134.5626  134.4388  134.6865\n",
       "2023-02-20     EURO  133.6065  133.4812  133.7318\n",
       "2023-02-17     EURO  134.3482  134.2218  134.4747\n",
       "2023-02-16     EURO  134.4341  134.3076  134.5606"
      ]
     },
     "execution_count": 3,
     "metadata": {},
     "output_type": "execute_result"
    }
   ],
   "source": [
    "# preview EURO data frame\n",
    "euro.head(7)"
   ]
  },
  {
   "cell_type": "markdown",
   "id": "c9bed8c7",
   "metadata": {},
   "source": [
    "##### Check for Missing values and Duplicates"
   ]
  },
  {
   "cell_type": "code",
   "execution_count": 4,
   "id": "14e96899",
   "metadata": {},
   "outputs": [
    {
     "name": "stdout",
     "output_type": "stream",
     "text": [
      "The data frame has 46 duplicated rows\n",
      "\n",
      "The data frame has 0 duplicated rows after dropping the duplicates\n"
     ]
    }
   ],
   "source": [
    "# duplicated rows \n",
    "print(f\"The data frame has {euro.duplicated().sum()} duplicated rows\")\n",
    "print()\n",
    "# drop the duplicated rows based on all columns\n",
    "df = euro.drop_duplicates()\n",
    "\n",
    "print(f\"The data frame has {df.duplicated().sum()} duplicated rows after dropping the duplicates\")"
   ]
  },
  {
   "cell_type": "markdown",
   "id": "52e3aef0",
   "metadata": {},
   "source": [
    "##### Check for Outliers"
   ]
  },
  {
   "cell_type": "code",
   "execution_count": 5,
   "id": "fb14c844",
   "metadata": {},
   "outputs": [
    {
     "data": {
      "image/png": "[encoded data removed]",
      "text/plain": [
       "<Figure size 1000x800 with 1 Axes>"
      ]
     },
     "metadata": {},
     "output_type": "display_data"
    }
   ],
   "source": [
    "# import neccesary libraries\n",
    "import seaborn as sns\n",
    "\n",
    "# create a boxplot for each column\n",
    "plt.figure(figsize=(10, 8))\n",
    "sns.boxplot(data=df[['Mean', 'Buy', 'Sell']], palette='Set3')\n",
    "\n",
    "# set the plot title and y-axis label\n",
    "plt.title('Boxplot of Exchange Rates')\n",
    "plt.ylabel('Exchange Rate')\n",
    "\n",
    "# show the plot\n",
    "plt.show()\n"
   ]
  },
  {
   "cell_type": "markdown",
   "id": "d02042c2",
   "metadata": {},
   "source": [
    ">No outliers detected"
   ]
  },
  {
   "cell_type": "markdown",
   "id": "08fb0468",
   "metadata": {},
   "source": [
    "## 3.  Data Visualization\n",
    "visualize the trend, seasonality, and any other patterns in the data."
   ]
  },
  {
   "cell_type": "markdown",
   "id": "38a2610f",
   "metadata": {},
   "source": [
    "### 3.1.Seasonality"
   ]
  },
  {
   "cell_type": "code",
   "execution_count": 6,
   "id": "66427c85",
   "metadata": {},
   "outputs": [],
   "source": [
    "# def stationery_display(df,cols):\n",
    "#     # set figure size\n",
    "#     plt.figure(figsize=(8, 8))\n",
    "\n",
    "#     # plot the rolling mean and rolling standard deviation\n",
    "#     buy = df['Buy']\n",
    "#     rolmean = buy.rolling(window=12).mean()\n",
    "#     rolstd = buy.rolling(window=12).std()\n",
    "#     plt.plot(buy, color='blue', label='Buy')\n",
    "#     plt.plot(rolmean, color='red', label='Rolling Mean')\n",
    "#     plt.plot(rolstd, color='black', label='Rolling Std')\n",
    "#     plt.title('Rolling Mean & Standard Deviation of Buy')\n",
    "#     plt.xlabel('Date')\n",
    "#     plt.ylabel('Exchange Rate')\n",
    "#     plt.legend()\n",
    "\n",
    "#     # show plot\n",
    "#     plt.show()\n",
    "        \n",
    "# stationery_display(euro,\"Mean\")        "
   ]
  },
  {
   "cell_type": "markdown",
   "id": "7dba4fc6",
   "metadata": {},
   "source": [
    "#### 3.2. Autocorrelation\n",
    "The ACF plot shows the correlation of the time series with its lagged values. The PACF plot shows the correlation of the time series with its lagged values after removing the effects of the intermediate lags.\n",
    "\n",
    "Identify the values for p and q: \n",
    "* The value of p is the lag at which the PACF plot first crosses the upper confidence interval. \n",
    "* The value of q is the lag at which the ACF plot first crosses the upper confidence interval."
   ]
  },
  {
   "cell_type": "code",
   "execution_count": 7,
   "id": "4c3a3dbb",
   "metadata": {},
   "outputs": [
    {
     "data": {
      "image/png": "[encoded data removed]",
      "text/plain": [
       "<Figure size 1000x500 with 1 Axes>"
      ]
     },
     "metadata": {},
     "output_type": "display_data"
    },
    {
     "data": {
      "image/png": "[encoded data removed]",
      "text/plain": [
       "<Figure size 1000x500 with 1 Axes>"
      ]
     },
     "metadata": {},
     "output_type": "display_data"
    }
   ],
   "source": [
    "from statsmodels.graphics.tsaplots import plot_acf, plot_pacf\n",
    "\n",
    "# increase plot size\n",
    "plt.rcParams[\"figure.figsize\"] = (10, 5)\n",
    "\n",
    "# plot ACF\n",
    "plot_acf(df['Mean'], lags=30)\n",
    "\n",
    "plt.axhline(y=-1.96/np.sqrt(len(df)), linestyle='--', color='gray')\n",
    "plt.axhline(y=1.96/np.sqrt(len(df)), linestyle='--', color='gray')\n",
    "plt.title('Autocorrelation Function (ACF) of Mean')\n",
    "plt.xlabel('Lags')\n",
    "plt.ylabel('Correlation')\n",
    "plt.show()\n",
    "\n",
    "# Plot PACF\n",
    "plot_pacf(df['Mean'], lags=30)\n",
    "plt.axhline(y=-1.96/np.sqrt(len(df)), linestyle='--', color='gray')\n",
    "plt.axhline(y=1.96/np.sqrt(len(df)), linestyle='--', color='gray')\n",
    "plt.title('Partial Autocorrelation Function (PACF) of Mean')\n",
    "plt.xlabel('Lags')\n",
    "plt.ylabel('Correlation')\n",
    "plt.show()\n"
   ]
  },
  {
   "cell_type": "markdown",
   "id": "c980b6ac",
   "metadata": {},
   "source": [
    ">The ACF plot shows a slow decay, and the PACF plot shows a sharp cutoff after lag p, a first-order difference is needed to make the time series stationary. "
   ]
  },
  {
   "cell_type": "markdown",
   "id": "59bd52c7",
   "metadata": {},
   "source": [
    "#### 3.3. Stationarity."
   ]
  },
  {
   "cell_type": "markdown",
   "id": "0d3d715c",
   "metadata": {},
   "source": [
    "####  Stationarity Test"
   ]
  },
  {
   "cell_type": "code",
   "execution_count": 8,
   "id": "1c57e571",
   "metadata": {},
   "outputs": [
    {
     "name": "stdout",
     "output_type": "stream",
     "text": [
      "Augmented Dickey-Fuller Test:\n",
      "ADF Statistic: -2.562614\n",
      "p-value: 0.100973\n",
      "Critical Values:\n",
      "\t1%: -3.432\n",
      "\t5%: -2.862\n",
      "\t10%: -2.567\n",
      "ADF test indicates series is non-stationary\n",
      "\n",
      "Kwiatkowski-Phillips-Schmidt-Shin Test:\n",
      "KPSS Statistic: 7.023228\n",
      "p-value: 0.010000\n",
      "Critical Values:\n",
      "\t10%: 0.347\n",
      "\t5%: 0.463\n",
      "\t2.5%: 0.574\n",
      "\t1%: 0.739\n",
      "KPSS test indicates series is non-stationary\n"
     ]
    }
   ],
   "source": [
    "# function to test \n",
    "def test_stationarity(series):\n",
    "    # augmented Dickey-Fuller test\n",
    "    adf_result = adfuller(series)\n",
    "    print('Augmented Dickey-Fuller Test:')\n",
    "    print('ADF Statistic: %f' % adf_result[0])\n",
    "    print('p-value: %f' % adf_result[1])\n",
    "    print('Critical Values:')\n",
    "    for key, value in adf_result[4].items():\n",
    "        print('\\t%s: %.3f' % (key, value))\n",
    "    if adf_result[0] < adf_result[4]['5%']:\n",
    "        print('ADF test indicates series is stationary')\n",
    "    else:\n",
    "        print('ADF test indicates series is non-stationary')\n",
    "\n",
    "    # kwiatkowski-Phillips-Schmidt-Shin test\n",
    "    kpss_result = sm.tsa.stattools.kpss(series)\n",
    "    print('\\nKwiatkowski-Phillips-Schmidt-Shin Test:')\n",
    "    print('KPSS Statistic: %f' % kpss_result[0])\n",
    "    print('p-value: %f' % kpss_result[1])\n",
    "    print('Critical Values:')\n",
    "    for key, value in kpss_result[3].items():\n",
    "        print('\\t%s: %.3f' % (key, value))\n",
    "    if kpss_result[0] < kpss_result[3]['5%']:\n",
    "        print('KPSS test indicates series is stationary')\n",
    "    else:\n",
    "        print('KPSS test indicates series is non-stationary')\n",
    "\n",
    "# call function\n",
    "test_stationarity(df['Mean'])        "
   ]
  },
  {
   "cell_type": "markdown",
   "id": "74ab8f10",
   "metadata": {},
   "source": [
    "## 4. Data PreProcessing"
   ]
  },
  {
   "cell_type": "code",
   "execution_count": 9,
   "id": "6477cacc",
   "metadata": {},
   "outputs": [],
   "source": [
    "# drop currency column\n",
    "final_df = euro.drop(\"Currency\", axis=1)"
   ]
  },
  {
   "cell_type": "markdown",
   "id": "ab162d6c",
   "metadata": {},
   "source": [
    "#####  Apply Differencing\n",
    "The time series is non-stationary, apply differencing to make it stationary.I will apply first-order differencing."
   ]
  },
  {
   "cell_type": "code",
   "execution_count": 10,
   "id": "1cf850ba",
   "metadata": {},
   "outputs": [],
   "source": [
    "# apply first order differencing\n",
    "diff_y = final_df.diff(periods=1).dropna()"
   ]
  },
  {
   "cell_type": "markdown",
   "id": "94479d55",
   "metadata": {},
   "source": [
    ">**After applying differencing, check for stationarity again, and these are results of the Augmented Dickey-Fuller test, the Kwiatkowski-Phillips-Schmidt-Shin test, and the Phillips-Perron test.**"
   ]
  },
  {
   "cell_type": "code",
   "execution_count": 11,
   "id": "e9600e24",
   "metadata": {},
   "outputs": [
    {
     "name": "stdout",
     "output_type": "stream",
     "text": [
      "Augmented Dickey-Fuller Test:\n",
      "ADF Statistic: -13.476830\n",
      "p-value: 0.000000\n",
      "Critical Values:\n",
      "\t1%: -3.432\n",
      "\t5%: -2.862\n",
      "\t10%: -2.567\n",
      "ADF test indicates series is stationary\n",
      "\n",
      "Kwiatkowski-Phillips-Schmidt-Shin Test:\n",
      "KPSS Statistic: 0.048997\n",
      "p-value: 0.100000\n",
      "Critical Values:\n",
      "\t10%: 0.347\n",
      "\t5%: 0.463\n",
      "\t2.5%: 0.574\n",
      "\t1%: 0.739\n",
      "KPSS test indicates series is stationary\n"
     ]
    }
   ],
   "source": [
    "# call function to test stationarity\n",
    "test_stationarity(diff_y[\"Mean\"])\n"
   ]
  },
  {
   "cell_type": "markdown",
   "id": "d4eef1b3",
   "metadata": {},
   "source": [
    "## 5. Determine the Parameters"
   ]
  },
  {
   "cell_type": "code",
   "execution_count": 12,
   "id": "72d02555",
   "metadata": {},
   "outputs": [
    {
     "name": "stdout",
     "output_type": "stream",
     "text": [
      "Performing stepwise search to minimize aic\n",
      " ARIMA(2,0,2)(0,0,0)[0]             : AIC=10521.081, Time=2.58 sec\n",
      " ARIMA(0,0,0)(0,0,0)[0]             : AIC=10530.172, Time=0.27 sec\n",
      " ARIMA(1,0,0)(0,0,0)[0]             : AIC=10528.241, Time=0.14 sec\n",
      " ARIMA(0,0,1)(0,0,0)[0]             : AIC=10527.851, Time=0.28 sec\n",
      " ARIMA(1,0,2)(0,0,0)[0]             : AIC=10519.268, Time=1.37 sec\n",
      " ARIMA(0,0,2)(0,0,0)[0]             : AIC=10521.063, Time=0.63 sec\n",
      " ARIMA(1,0,1)(0,0,0)[0]             : AIC=10527.110, Time=1.07 sec\n",
      " ARIMA(1,0,3)(0,0,0)[0]             : AIC=10514.506, Time=3.86 sec\n",
      " ARIMA(0,0,3)(0,0,0)[0]             : AIC=10518.666, Time=0.76 sec\n",
      " ARIMA(2,0,3)(0,0,0)[0]             : AIC=10514.496, Time=4.48 sec\n",
      " ARIMA(3,0,3)(0,0,0)[0]             : AIC=10516.431, Time=6.11 sec\n",
      " ARIMA(2,0,4)(0,0,0)[0]             : AIC=10516.431, Time=6.18 sec\n",
      " ARIMA(1,0,4)(0,0,0)[0]             : AIC=10514.979, Time=3.32 sec\n",
      " ARIMA(3,0,2)(0,0,0)[0]             : AIC=10514.899, Time=1.79 sec\n",
      " ARIMA(3,0,4)(0,0,0)[0]             : AIC=10518.473, Time=4.63 sec\n",
      " ARIMA(2,0,3)(0,0,0)[0] intercept   : AIC=10516.145, Time=9.10 sec\n",
      "\n",
      "Best model:  ARIMA(2,0,3)(0,0,0)[0]          \n",
      "Total fit time: 46.582 seconds\n"
     ]
    },
    {
     "data": {
      "text/plain": [
       "ARIMA(order=(2, 0, 3), scoring_args={}, suppress_warnings=True,\n",
       "      with_intercept=False)"
      ]
     },
     "execution_count": 12,
     "metadata": {},
     "output_type": "execute_result"
    }
   ],
   "source": [
    "# import neccesary library\n",
    "from pmdarima.arima import auto_arima\n",
    "\n",
    "# Find the optimal order of the ARIMA model\n",
    "model = auto_arima(diff_y[\"Mean\"], seasonal=False, trace=True,\n",
    "                   suppress_warnings=True, error_action=\"ignore\")\n",
    "model"
   ]
  },
  {
   "cell_type": "markdown",
   "id": "29679763",
   "metadata": {},
   "source": [
    "## 6. Modelling\n",
    "### kesur_model"
   ]
  },
  {
   "cell_type": "code",
   "execution_count": 13,
   "id": "665ec37b",
   "metadata": {},
   "outputs": [],
   "source": [
    "# build the ARIMA model\n",
    "# AR order\n",
    "p = None  \n",
    "\n",
    "# differencing order\n",
    "d = None  \n",
    "\n",
    "# MA order\n",
    "q = None  \n",
    "\n",
    "kesur_mean = sm.tsa.ARIMA(df['Mean'], order=(2, 0, 3))\n",
    "kesur_sell = sm.tsa.ARIMA(df['Sell'], order=(2, 0, 3))\n",
    "kesur_buy = sm.tsa.ARIMA(df['Buy'], order=(1, 0, 3))\n",
    "\n",
    "# fit the model\n",
    "mean_results = kesur_mean.fit()\n",
    "sell_results = kesur_sell.fit()\n",
    "buy_results = kesur_buy.fit()\n"
   ]
  },
  {
   "cell_type": "markdown",
   "id": "e4237984",
   "metadata": {},
   "source": [
    "### Forcast for Feb 24 2024"
   ]
  },
  {
   "cell_type": "code",
   "execution_count": 14,
   "id": "52728ab8",
   "metadata": {},
   "outputs": [
    {
     "data": {
      "text/html": [
       "<div>\n",
       "<style scoped>\n",
       "    .dataframe tbody tr th:only-of-type {\n",
       "        vertical-align: middle;\n",
       "    }\n",
       "\n",
       "    .dataframe tbody tr th {\n",
       "        vertical-align: top;\n",
       "    }\n",
       "\n",
       "    .dataframe thead th {\n",
       "        text-align: right;\n",
       "    }\n",
       "</style>\n",
       "<table border=\"1\" class=\"dataframe\">\n",
       "  <thead>\n",
       "    <tr style=\"text-align: right;\">\n",
       "      <th></th>\n",
       "      <th>Currency</th>\n",
       "      <th>Mean</th>\n",
       "      <th>Buy</th>\n",
       "      <th>Sell</th>\n",
       "    </tr>\n",
       "    <tr>\n",
       "      <th>Date</th>\n",
       "      <th></th>\n",
       "      <th></th>\n",
       "      <th></th>\n",
       "      <th></th>\n",
       "    </tr>\n",
       "  </thead>\n",
       "  <tbody>\n",
       "    <tr>\n",
       "      <th>2023-02-24</th>\n",
       "      <td>EURO</td>\n",
       "      <td>133.9741</td>\n",
       "      <td>133.8476</td>\n",
       "      <td>134.1006</td>\n",
       "    </tr>\n",
       "    <tr>\n",
       "      <th>2023-02-23</th>\n",
       "      <td>EURO</td>\n",
       "      <td>134.2924</td>\n",
       "      <td>134.1641</td>\n",
       "      <td>134.4206</td>\n",
       "    </tr>\n",
       "    <tr>\n",
       "      <th>2023-02-22</th>\n",
       "      <td>EURO</td>\n",
       "      <td>134.4568</td>\n",
       "      <td>134.3318</td>\n",
       "      <td>134.5818</td>\n",
       "    </tr>\n",
       "    <tr>\n",
       "      <th>2023-02-21</th>\n",
       "      <td>EURO</td>\n",
       "      <td>134.5626</td>\n",
       "      <td>134.4388</td>\n",
       "      <td>134.6865</td>\n",
       "    </tr>\n",
       "    <tr>\n",
       "      <th>2023-02-20</th>\n",
       "      <td>EURO</td>\n",
       "      <td>133.6065</td>\n",
       "      <td>133.4812</td>\n",
       "      <td>133.7318</td>\n",
       "    </tr>\n",
       "  </tbody>\n",
       "</table>\n",
       "</div>"
      ],
      "text/plain": [
       "           Currency      Mean       Buy      Sell\n",
       "Date                                             \n",
       "2023-02-24     EURO  133.9741  133.8476  134.1006\n",
       "2023-02-23     EURO  134.2924  134.1641  134.4206\n",
       "2023-02-22     EURO  134.4568  134.3318  134.5818\n",
       "2023-02-21     EURO  134.5626  134.4388  134.6865\n",
       "2023-02-20     EURO  133.6065  133.4812  133.7318"
      ]
     },
     "execution_count": 14,
     "metadata": {},
     "output_type": "execute_result"
    }
   ],
   "source": [
    "euro.head(5)"
   ]
  },
  {
   "cell_type": "code",
   "execution_count": 15,
   "id": "26eb2693",
   "metadata": {},
   "outputs": [
    {
     "name": "stdout",
     "output_type": "stream",
     "text": [
      "Mean forecast for April 2024: 105.42989198021131\n",
      "Sell forecast for April 2024: 105.56694373748992\n",
      "Buy forecast for April 2024: 105.32176691588832\n"
     ]
    }
   ],
   "source": [
    "# forecast for 1 year\n",
    "forecast_periods = 12\n",
    "mean_forecast = mean_results.forecast(steps=forecast_periods)\n",
    "sell_forecast = sell_results.forecast(steps=forecast_periods)\n",
    "buy_forecast = buy_results.forecast(steps=forecast_periods)\n",
    "\n",
    "# print the forecasted values\n",
    "if len(mean_forecast) > 0:\n",
    "    print(\"Mean forecast for April 2024:\", mean_forecast.mean())\n",
    "else:\n",
    "    print(\"Error: Mean forecast array is empty\")\n",
    "    \n",
    "if len(sell_forecast) > 0:\n",
    "    print(\"Sell forecast for April 2024:\", sell_forecast.mean())\n",
    "else:\n",
    "    print(\"Error: Sell forecast array is empty\")\n",
    "\n",
    "if len(buy_forecast) > 0:\n",
    "    print(\"Buy forecast for April 2024:\", buy_forecast.mean())\n",
    "else:\n",
    "    print(\"Error: Buy forecast array is empty\")\n"
   ]
  },
  {
   "cell_type": "markdown",
   "id": "0bba9c1b",
   "metadata": {},
   "source": [
    "### Tune for Optimised Model"
   ]
  },
  {
   "cell_type": "markdown",
   "id": "57025bf3",
   "metadata": {},
   "source": [
    "# 7. Evaluation"
   ]
  },
  {
   "cell_type": "code",
   "execution_count": 16,
   "id": "66b5fb7b",
   "metadata": {},
   "outputs": [
    {
     "data": {
      "image/png": "[encoded data removed]",
      "text/plain": [
       "<Figure size 800x400 with 1 Axes>"
      ]
     },
     "metadata": {},
     "output_type": "display_data"
    }
   ],
   "source": [
    "# import neccesary libraries\n",
    "from scipy import stats\n",
    "\n",
    "# evaluate the model\n",
    "residuals = mean_results.resid\n",
    "\n",
    "# plot histogram of residuals\n",
    "fig, ax = plt.subplots(figsize=(8, 4))\n",
    "ax.hist(residuals, bins=25, density=True, alpha=0.6, color='b')\n",
    "\n",
    "# plot normal distribution curve\n",
    "xmin, xmax = plt.xlim()\n",
    "x = np.linspace(xmin, xmax, 100)\n",
    "p = stats.norm.pdf(x, np.mean(residuals), np.std(residuals))\n",
    "ax.plot(x, p, 'k', linewidth=2)\n",
    "ax.set_xlabel('Residuals')\n",
    "ax.set_ylabel('Density')\n",
    "ax.set_title('Histogram of Residuals')\n",
    "plt.show()\n"
   ]
  },
  {
   "cell_type": "code",
   "execution_count": 17,
   "id": "d956f335",
   "metadata": {},
   "outputs": [
    {
     "data": {
      "image/png": "[encoded data removed]",
      "text/plain": [
       "<Figure size 800x400 with 1 Axes>"
      ]
     },
     "metadata": {},
     "output_type": "display_data"
    }
   ],
   "source": [
    "# evaluate the model\n",
    "residuals = sell_results.resid\n",
    "\n",
    "# plot histogram of residuals\n",
    "fig, ax = plt.subplots(figsize=(8, 4))\n",
    "ax.hist(residuals, bins=25, density=True, alpha=0.6, color='b')\n",
    "\n",
    "# plot normal distribution curve\n",
    "xmin, xmax = plt.xlim()\n",
    "x = np.linspace(xmin, xmax, 100)\n",
    "p = stats.norm.pdf(x, np.mean(residuals), np.std(residuals))\n",
    "ax.plot(x, p, 'k', linewidth=2)\n",
    "ax.set_xlabel('Residuals')\n",
    "ax.set_ylabel('Density')\n",
    "ax.set_title('Histogram of Residuals')\n",
    "plt.show()\n"
   ]
  },
  {
   "cell_type": "code",
   "execution_count": 18,
   "id": "89967b65",
   "metadata": {},
   "outputs": [
    {
     "data": {
      "image/png": "[encoded data removed]",
      "text/plain": [
       "<Figure size 800x400 with 1 Axes>"
      ]
     },
     "metadata": {},
     "output_type": "display_data"
    }
   ],
   "source": [
    "# evaluate the model\n",
    "residuals = buy_results.resid\n",
    "\n",
    "# plot histogram of residuals\n",
    "fig, ax = plt.subplots(figsize=(8, 4))\n",
    "ax.hist(residuals, bins=25, density=True, alpha=0.6, color='b')\n",
    "\n",
    "# plot normal distribution curve\n",
    "xmin, xmax = plt.xlim()\n",
    "x = np.linspace(xmin, xmax, 100)\n",
    "p = stats.norm.pdf(x, np.mean(residuals), np.std(residuals))\n",
    "ax.plot(x, p, 'k', linewidth=2)\n",
    "ax.set_xlabel('Residuals')\n",
    "ax.set_ylabel('Density')\n",
    "ax.set_title('Histogram of Residuals')\n",
    "plt.show()\n"
   ]
  },
  {
   "cell_type": "markdown",
   "id": "e5be612a",
   "metadata": {},
   "source": [
    ">residuals are normally distributed"
   ]
  }
 ],
 "metadata": {
  "kernelspec": {
   "display_name": "arima_env",
   "language": "python",
   "name": "arima_env"
  },
  "language_info": {
   "codemirror_mode": {
    "name": "ipython",
    "version": 3
   },
   "file_extension": ".py",
   "mimetype": "text/x-python",
   "name": "python",
   "nbconvert_exporter": "python",
   "pygments_lexer": "ipython3",
   "version": "3.10.6"
  }
 },
 "nbformat": 4,
 "nbformat_minor": 5
}
